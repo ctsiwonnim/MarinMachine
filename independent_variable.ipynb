{
 "cells": [
  {
   "cell_type": "code",
   "execution_count": 31,
   "metadata": {},
   "outputs": [],
   "source": [
    "# 랜덤포레스트라이브러리\n",
    "from sklearn.datasets import load_iris\n",
    "from sklearn.ensemble import RandomForestClassifier\n",
    "from sklearn.model_selection import train_test_split\n",
    "from sklearn.metrics import accuracy_score\n",
    "\n",
    "#geopandas\n",
    "import geopandas as gpd\n",
    "import pandas as pd\n",
    "\n",
    "# 공간연산\n",
    "from shapely.geometry import Point\n"
   ]
  },
  {
   "cell_type": "code",
   "execution_count": 32,
   "metadata": {},
   "outputs": [],
   "source": [
    "# 등대 SHP 파일 읽기\n",
    "shp_file_lighthouse = \"./data/해양수산부 국립해양조사원_등대_20240717/VI_LNDMRK_P.shp\"\n",
    "lighthouse = gpd.read_file(shp_file_lighthouse)"
   ]
  },
  {
   "cell_type": "code",
   "execution_count": 33,
   "metadata": {},
   "outputs": [
    {
     "name": "stdout",
     "output_type": "stream",
     "text": [
      "PROJCS[\"Korea_2000_Korea_Unified_Coordinate_System\",GEOGCS[\"GCS_Korea_2000\",DATUM[\"Korean_Geodetic_Datum_2002\",SPHEROID[\"GRS 1980\",6378137,298.257222101,AUTHORITY[\"EPSG\",\"7019\"]],AUTHORITY[\"EPSG\",\"6737\"]],PRIMEM[\"Greenwich\",0],UNIT[\"Degree\",0.0174532925199433]],PROJECTION[\"Transverse_Mercator\"],PARAMETER[\"latitude_of_origin\",38],PARAMETER[\"central_meridian\",127.5],PARAMETER[\"scale_factor\",0.9996],PARAMETER[\"false_easting\",1000000],PARAMETER[\"false_northing\",2000000],UNIT[\"metre\",1,AUTHORITY[\"EPSG\",\"9001\"]],AXIS[\"Easting\",EAST],AXIS[\"Northing\",NORTH]]\n"
     ]
    }
   ],
   "source": [
    "print(lighthouse.crs)"
   ]
  },
  {
   "cell_type": "code",
   "execution_count": 34,
   "metadata": {},
   "outputs": [
    {
     "name": "stdout",
     "output_type": "stream",
     "text": [
      "           XMIN          YMIN     MNYMD\n",
      "0  1.170227e+06  1.724263e+06  20231208\n",
      "1  1.142759e+06  1.947584e+06  20231208\n",
      "2  9.415726e+05  1.600094e+06  20231208\n",
      "3  1.137052e+06  1.965146e+06  20231208\n",
      "4 -1.758740e+06 -1.798592e+06  20231208\n"
     ]
    }
   ],
   "source": [
    "# lighthouse는 GeoDataFrame\n",
    "# 원하는 컬럼 리스트\n",
    "columns_to_keep = ['XMIN', 'YMIN', 'MNYMD']\n",
    "\n",
    "# 원하는 컬럼만 선택하여 lighthouse 업데이트\n",
    "lighthouse = lighthouse[columns_to_keep]\n",
    "\n",
    "print(lighthouse.head())\n"
   ]
  },
  {
   "cell_type": "code",
   "execution_count": 35,
   "metadata": {},
   "outputs": [
    {
     "name": "stdout",
     "output_type": "stream",
     "text": [
      "      MNYMD           x          y\n",
      "0  20231208  129.376835  35.499688\n",
      "1  20231208  129.115405  37.516512\n",
      "2  20231208  126.864374  34.392943\n",
      "3  20231208  129.054136  37.675611\n",
      "4  20231208  103.408297   3.361819\n"
     ]
    }
   ],
   "source": [
    "import geopandas as gpd\n",
    "from shapely.geometry import Point\n",
    "\n",
    "# GeoDataFrame으로 변환 (현재 lighthouse는 좌표계 정보가 없을 가능성 있음)\n",
    "lighthouse['geometry'] = lighthouse.apply(lambda row: Point(row.XMIN, row.YMIN), axis=1)\n",
    "lighthouse = gpd.GeoDataFrame(lighthouse, geometry='geometry')\n",
    "\n",
    "# 현재 좌표계 설정 (Korea Unified Coordinate System, EPSG:5179로 추정)\n",
    "lighthouse.set_crs(epsg=5179, inplace=True)  # EPSG:5179은 한국 통합 좌표계\n",
    "\n",
    "# 좌표계를 EPSG:4326 (WGS84, 위경도)로 변환\n",
    "lighthouse = lighthouse.to_crs(epsg=4326)\n",
    "\n",
    "# 변환된 좌표를 x, y 컬럼에 저장\n",
    "lighthouse['x'] = lighthouse.geometry.x  # 경도\n",
    "lighthouse['y'] = lighthouse.geometry.y  # 위도\n",
    "\n",
    "# 필요 없는 geometry 컬럼 삭제\n",
    "lighthouse = lighthouse.drop(columns=['geometry', 'XMIN', 'YMIN'])\n",
    "\n",
    "# 결과 확인\n",
    "print(lighthouse.head())\n"
   ]
  },
  {
   "cell_type": "code",
   "execution_count": null,
   "metadata": {},
   "outputs": [],
   "source": []
  }
 ],
 "metadata": {
  "kernelspec": {
   "display_name": "Python 3",
   "language": "python",
   "name": "python3"
  },
  "language_info": {
   "codemirror_mode": {
    "name": "ipython",
    "version": 3
   },
   "file_extension": ".py",
   "mimetype": "text/x-python",
   "name": "python",
   "nbconvert_exporter": "python",
   "pygments_lexer": "ipython3",
   "version": "3.12.0"
  }
 },
 "nbformat": 4,
 "nbformat_minor": 2
}
