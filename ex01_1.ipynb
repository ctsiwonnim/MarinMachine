{
 "cells": [
  {
   "cell_type": "code",
   "execution_count": 7,
   "metadata": {},
   "outputs": [],
   "source": [
    "# 랜덤포레스트라이브러리\n",
    "from sklearn.datasets import load_iris\n",
    "from sklearn.ensemble import RandomForestClassifier\n",
    "from sklearn.model_selection import train_test_split\n",
    "from sklearn.metrics import accuracy_score\n",
    "\n",
    "#geopandas\n",
    "import geopandas as gpd\n",
    "import pandas as pd\n"
   ]
  },
  {
   "cell_type": "code",
   "execution_count": 5,
   "metadata": {},
   "outputs": [
    {
     "name": "stdout",
     "output_type": "stream",
     "text": [
      "         OG_ID                                           geometry\n",
      "0  GR3_B3A11_A  POLYGON ((120 44, 120.05 44, 120.05 43.95, 120...\n",
      "1  GR3_B3A11_B  POLYGON ((120.05 44, 120.1 44, 120.1 43.95, 12...\n",
      "2  GR3_B3A11_C  POLYGON ((120.1 44, 120.15 44, 120.15 43.95, 1...\n",
      "3  GR3_B3A11_D  POLYGON ((120.15 44, 120.2 44, 120.2 43.95, 12...\n",
      "4  GR3_B3A11_E  POLYGON ((120.2 44, 120.25 44, 120.25 43.95, 1...\n",
      "EPSG:4326\n"
     ]
    }
   ],
   "source": [
    "# 격지 SHP 파일 읽기\n",
    "shp_file_grid = \"./data/grid3_shp/og_gd03_as.shp\"\n",
    "gdf = gpd.read_file(shp_file_grid)\n",
    "\n",
    "# 데이터셋\n",
    "\n",
    "# 데이터 확인\n",
    "print(gdf.head())  # 데이터 미리 보기\n",
    "print(gdf.crs)     # 좌표계 정보"
   ]
  },
  {
   "cell_type": "code",
   "execution_count": 6,
   "metadata": {},
   "outputs": [
    {
     "data": {
      "text/html": [
       "<div>\n",
       "<style scoped>\n",
       "    .dataframe tbody tr th:only-of-type {\n",
       "        vertical-align: middle;\n",
       "    }\n",
       "\n",
       "    .dataframe tbody tr th {\n",
       "        vertical-align: top;\n",
       "    }\n",
       "\n",
       "    .dataframe thead th {\n",
       "        text-align: right;\n",
       "    }\n",
       "</style>\n",
       "<table border=\"1\" class=\"dataframe\">\n",
       "  <thead>\n",
       "    <tr style=\"text-align: right;\">\n",
       "      <th></th>\n",
       "      <th>OG_ID</th>\n",
       "      <th>geometry</th>\n",
       "    </tr>\n",
       "  </thead>\n",
       "  <tbody>\n",
       "    <tr>\n",
       "      <th>0</th>\n",
       "      <td>GR3_B3A11_A</td>\n",
       "      <td>POLYGON ((120 44, 120.05 44, 120.05 43.95, 120...</td>\n",
       "    </tr>\n",
       "    <tr>\n",
       "      <th>1</th>\n",
       "      <td>GR3_B3A11_B</td>\n",
       "      <td>POLYGON ((120.05 44, 120.1 44, 120.1 43.95, 12...</td>\n",
       "    </tr>\n",
       "    <tr>\n",
       "      <th>2</th>\n",
       "      <td>GR3_B3A11_C</td>\n",
       "      <td>POLYGON ((120.1 44, 120.15 44, 120.15 43.95, 1...</td>\n",
       "    </tr>\n",
       "    <tr>\n",
       "      <th>3</th>\n",
       "      <td>GR3_B3A11_D</td>\n",
       "      <td>POLYGON ((120.15 44, 120.2 44, 120.2 43.95, 12...</td>\n",
       "    </tr>\n",
       "    <tr>\n",
       "      <th>4</th>\n",
       "      <td>GR3_B3A11_E</td>\n",
       "      <td>POLYGON ((120.2 44, 120.25 44, 120.25 43.95, 1...</td>\n",
       "    </tr>\n",
       "    <tr>\n",
       "      <th>...</th>\n",
       "      <td>...</td>\n",
       "      <td>...</td>\n",
       "    </tr>\n",
       "    <tr>\n",
       "      <th>102395</th>\n",
       "      <td>GR3_K2P44_U</td>\n",
       "      <td>POLYGON ((135.75 28.05, 135.8 28.05, 135.8 28,...</td>\n",
       "    </tr>\n",
       "    <tr>\n",
       "      <th>102396</th>\n",
       "      <td>GR3_K2P44_V</td>\n",
       "      <td>POLYGON ((135.8 28.05, 135.85 28.05, 135.85 28...</td>\n",
       "    </tr>\n",
       "    <tr>\n",
       "      <th>102397</th>\n",
       "      <td>GR3_K2P44_W</td>\n",
       "      <td>POLYGON ((135.85 28.05, 135.9 28.05, 135.9 28,...</td>\n",
       "    </tr>\n",
       "    <tr>\n",
       "      <th>102398</th>\n",
       "      <td>GR3_K2P44_X</td>\n",
       "      <td>POLYGON ((135.9 28.05, 135.95 28.05, 135.95 28...</td>\n",
       "    </tr>\n",
       "    <tr>\n",
       "      <th>102399</th>\n",
       "      <td>GR3_K2P44_Y</td>\n",
       "      <td>POLYGON ((135.95 28.05, 136 28.05, 136 28, 135...</td>\n",
       "    </tr>\n",
       "  </tbody>\n",
       "</table>\n",
       "<p>102400 rows × 2 columns</p>\n",
       "</div>"
      ],
      "text/plain": [
       "              OG_ID                                           geometry\n",
       "0       GR3_B3A11_A  POLYGON ((120 44, 120.05 44, 120.05 43.95, 120...\n",
       "1       GR3_B3A11_B  POLYGON ((120.05 44, 120.1 44, 120.1 43.95, 12...\n",
       "2       GR3_B3A11_C  POLYGON ((120.1 44, 120.15 44, 120.15 43.95, 1...\n",
       "3       GR3_B3A11_D  POLYGON ((120.15 44, 120.2 44, 120.2 43.95, 12...\n",
       "4       GR3_B3A11_E  POLYGON ((120.2 44, 120.25 44, 120.25 43.95, 1...\n",
       "...             ...                                                ...\n",
       "102395  GR3_K2P44_U  POLYGON ((135.75 28.05, 135.8 28.05, 135.8 28,...\n",
       "102396  GR3_K2P44_V  POLYGON ((135.8 28.05, 135.85 28.05, 135.85 28...\n",
       "102397  GR3_K2P44_W  POLYGON ((135.85 28.05, 135.9 28.05, 135.9 28,...\n",
       "102398  GR3_K2P44_X  POLYGON ((135.9 28.05, 135.95 28.05, 135.95 28...\n",
       "102399  GR3_K2P44_Y  POLYGON ((135.95 28.05, 136 28.05, 136 28, 135...\n",
       "\n",
       "[102400 rows x 2 columns]"
      ]
     },
     "execution_count": 6,
     "metadata": {},
     "output_type": "execute_result"
    }
   ],
   "source": [
    "gdf"
   ]
  },
  {
   "cell_type": "code",
   "execution_count": null,
   "metadata": {},
   "outputs": [],
   "source": [
    "# CSV 파일 불러오기\n",
    "csv_file = \"path_to_file/your_file.csv\"\n",
    "df = pd.read_csv(csv_file)\n",
    "\n",
    "# 데이터 확인\n",
    "print(df.head())  # 첫 5행 출력\n",
    "print(df.info())  # 데이터 요약 정보"
   ]
  }
 ],
 "metadata": {
  "kernelspec": {
   "display_name": "Python 3",
   "language": "python",
   "name": "python3"
  },
  "language_info": {
   "codemirror_mode": {
    "name": "ipython",
    "version": 3
   },
   "file_extension": ".py",
   "mimetype": "text/x-python",
   "name": "python",
   "nbconvert_exporter": "python",
   "pygments_lexer": "ipython3",
   "version": "3.12.0"
  }
 },
 "nbformat": 4,
 "nbformat_minor": 2
}
